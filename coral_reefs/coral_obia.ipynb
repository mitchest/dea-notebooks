{
 "cells": [
  {
   "cell_type": "markdown",
   "metadata": {},
   "source": [
    "# OBIA implementation  \n",
    "\n",
    "The goal here is to iterate through groups of connected pixels (objects) in an output classification/prediction, and assign to each object the relative border of neighbouring objects. Whether this is via vectorisation + vector operation, or somehow keeping it rasterized, is fairly unimportant.  \n",
    "\n",
    "The goal is to be able to make a deision like, e.g. if object of class x is more than 50% sourrounded by class y + z, then make it class y"
   ]
  },
  {
   "cell_type": "markdown",
   "metadata": {},
   "source": [
    "## Front matter"
   ]
  },
  {
   "cell_type": "code",
   "execution_count": 2,
   "metadata": {},
   "outputs": [],
   "source": [
    "import datacube # assume as some point the paralellisation will be data cube handled\n",
    "\n",
    "import rasterio\n",
    "import xarray as xr\n",
    "\n",
    "import numpy as np\n",
    "import geopandas as gpd"
   ]
  },
  {
   "cell_type": "markdown",
   "metadata": {},
   "source": [
    "## OBIA steps\n",
    "\n",
    "### Load the classification data"
   ]
  },
  {
   "cell_type": "code",
   "execution_count": 3,
   "metadata": {},
   "outputs": [
    {
     "name": "stdout",
     "output_type": "stream",
     "text": [
      "<xarray.DataArray (band: 1, y: 5943, x: 8113)>\n",
      "[48215559 values with dtype=float64]\n",
      "Coordinates:\n",
      "  * band     (band) int64 1\n",
      "  * y        (y) float64 -2.648e+06 -2.648e+06 ... -2.708e+06 -2.708e+06\n",
      "  * x        (x) float64 1.961e+06 1.961e+06 1.961e+06 ... 2.042e+06 2.042e+06\n",
      "Attributes:\n",
      "    transform:      (10.0, 0.0, 1961070.0, 0.0, -10.0, -2648340.0)\n",
      "    crs:            +init=epsg:3577\n",
      "    res:            (10.0, 10.0)\n",
      "    is_tiled:       1\n",
      "    nodatavals:     (nan,)\n",
      "    scales:         (1.0,)\n",
      "    offsets:        (0.0,)\n",
      "    AREA_OR_POINT:  Area\n"
     ]
    }
   ],
   "source": [
    "classification = xr.open_rasterio(\"cap_bunk_benthic.tif\")\n",
    "print(classification)"
   ]
  },
  {
   "cell_type": "markdown",
   "metadata": {},
   "source": [
    "### Vectorise it\n",
    "\n",
    "I can't think of a way to NOT perform vectorisation, to be able to assign each object it's neighbourhood membership  \n",
    "\n",
    "Methods...  \n",
    "- Polygon neighbours?\n",
    "- Intersect/Spatial join with itself, then group based on polygon ID?\n"
   ]
  },
  {
   "cell_type": "code",
   "execution_count": null,
   "metadata": {},
   "outputs": [],
   "source": []
  }
 ],
 "metadata": {
  "kernelspec": {
   "display_name": "Python 3",
   "language": "python",
   "name": "python3"
  },
  "language_info": {
   "codemirror_mode": {
    "name": "ipython",
    "version": 3
   },
   "file_extension": ".py",
   "mimetype": "text/x-python",
   "name": "python",
   "nbconvert_exporter": "python",
   "pygments_lexer": "ipython3",
   "version": "3.6.9"
  }
 },
 "nbformat": 4,
 "nbformat_minor": 4
}
